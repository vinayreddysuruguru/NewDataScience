{
    "cells": [
        {
            "metadata": {
                "collapsed": true
            },
            "cell_type": "markdown",
            "source": "# My Jupyter Notebook on IBM Watson Studio"
        },
        {
            "metadata": {},
            "cell_type": "markdown",
            "source": "**Vinay Reddy Suruguru**\n\nSAP HR Consultant"
        },
        {
            "metadata": {},
            "cell_type": "markdown",
            "source": "*I am intrested in data science because I love analytics*"
        },
        {
            "metadata": {},
            "cell_type": "markdown",
            "source": "The code below will display the text."
        },
        {
            "metadata": {},
            "cell_type": "code",
            "source": "print (\"Hello World!\")",
            "execution_count": 6,
            "outputs": [
                {
                    "output_type": "stream",
                    "text": "Hello World!\n",
                    "name": "stdout"
                }
            ]
        },
        {
            "metadata": {},
            "cell_type": "markdown",
            "source": "+ This is unordered list\n\n~~This is a Strike Through~~\n\n[Click on this link to read more about data science](https://www.google.com/search?source=hp&ei=66ZCX6L3CpKKmgfm3riADQ&q=data+science&oq=data+science&gs_lcp=CgZwc3ktYWIQAzIFCAAQsQMyAggAMgIIADIFCAAQsQMyBQgAELEDMgUIABCxAzIFCAAQsQMyAggAMgUIABCxAzICCAA6BQguEJMCOgIILjoKCAAQsQMQgwEQCjoLCC4QsQMQxwEQowI6CAguELEDEIMBOggIABCxAxCDAToICC4QsQMQkwI6BQguELEDSgUICRIBMUoGCAoSAjExUI4MWLMgYIUhaABwAHgAgAG0AYgB-QiSAQM3LjSYAQCgAQGqAQdnd3Mtd2l6&sclient=psy-ab&ved=0ahUKEwjimOi77LHrAhUSheYKHWYvDtAQ4dUDCAc&uact=5 \"Google Data Science\")"
        },
        {
            "metadata": {},
            "cell_type": "code",
            "source": "",
            "execution_count": null,
            "outputs": []
        }
    ],
    "metadata": {
        "kernelspec": {
            "name": "python3",
            "display_name": "Python 3.6",
            "language": "python"
        },
        "language_info": {
            "name": "python",
            "version": "3.6.9",
            "mimetype": "text/x-python",
            "codemirror_mode": {
                "name": "ipython",
                "version": 3
            },
            "pygments_lexer": "ipython3",
            "nbconvert_exporter": "python",
            "file_extension": ".py"
        }
    },
    "nbformat": 4,
    "nbformat_minor": 1
}